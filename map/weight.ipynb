{
 "cells": [
  {
   "cell_type": "code",
   "execution_count": null,
   "metadata": {},
   "outputs": [],
   "source": [
    "import pickle\n",
    "import networkx as nx\n",
    "from shapely.geometry import LineString\n",
    "from geopy.distance import great_circle\n",
    "from shapely.geometry import LineString\n",
    "# .pickle 파일에서 그래프 불러오기\n",
    "with open(r'C:/my_code/moduroad/moduroad_app/cashe_data/Wheelchair_graph.pickle', 'rb') as file:\n",
    "    graph = pickle.load(file)\n",
    "\n",
    "# 모든 엣지에 대해 반복\n",
    "for u, v, data in graph.edges(data=True):\n",
    "    # 'geometry' 속성이 있는지 확인하고, 있다면 길이 계산\n",
    "    if 'geometry' in data:\n",
    "        # LineString 객체로부터 길이 계산\n",
    "        line = data['geometry']\n",
    "        total_distance = 0\n",
    "        for i in range(len(line.coords)-1):\n",
    "            point1 = line.coords[i][::-1]  # 순서를 바꿈\n",
    "            point2 = line.coords[i+1][::-1] \n",
    "            segment_distance = great_circle(point1, point2).meters\n",
    "            total_distance += segment_distance\n",
    "        # 계산한 길이를 'length' 속성에 저장\n",
    "        print(\"ori\",data['length'])\n",
    "        data['length'] = total_distance\n",
    "        print(\"chan\",data['length'])\n",
    "    else:\n",
    "        print(\"no\")\n",
    "\n",
    "# 변경된 그래프를 다시 .pickle 파일로 저장 (선택적)\n",
    "#with open(r'C:/my_code/moduroad/moduroad_app/cashe_data/Wheelchair_graph_updated.pickle', 'wb') as file:\n",
    "    #pickle.dump(graph, file)\n"
   ]
  },
  {
   "cell_type": "code",
   "execution_count": null,
   "metadata": {},
   "outputs": [],
   "source": [
    "import pickle\n",
    "\n",
    "# graph 변수에 저장된 그래프 객체가 있다고 가정합니다.\n",
    "# 예를 들어, graph = nx.Graph()와 같은 네트워크X 그래프 객체일 수 있습니다.\n",
    "\n",
    "# 파일 저장 경로 설정\n",
    "file_path = r'C:/my_code/moduroad/moduroad_app/cashe_data/Wheelchair_graph.pickle'\n",
    "# 'wb'는 바이너리 쓰기 모드를 의미합니다.\n",
    "with open(file_path, 'wb') as file:\n",
    "    pickle.dump(graph, file)\n",
    "\n",
    "print(f\"그래프가 성공적으로 {file_path}에 저장되었습니다.\")\n"
   ]
  },
  {
   "cell_type": "code",
   "execution_count": null,
   "metadata": {},
   "outputs": [],
   "source": [
    "import pickle\n",
    "\n",
    "# 길이 및 장애물별 가중치 정의\n",
    "length_weight = 0.164  # 길이 당 가중치\n",
    "obstacle_weights = {\n",
    "    'slope': 0.195,\n",
    "    'stair_steep': 0.268,\n",
    "    'bollard': 0.069,\n",
    "    'crosswalk_curb': 0.069,\n",
    "    'sidewalk_curb': 0.069\n",
    "}\n",
    "\n",
    "# 그래프 데이터 로드\n",
    "with open(r'C:/my_code/moduroad/moduroad_app/cashe_data/Wheelchair_graph.pickle', 'rb') as file:\n",
    "    graph = pickle.load(file)\n",
    "\n",
    "# 각 엣지에 대한 총 가중치 계산\n",
    "for u, v, data in graph.edges(data=True):\n",
    "    # 엣지의 길이를 기본 가중치로 설정\n",
    "    total_weight = data.get('length', 0) * length_weight\n",
    "    \n",
    "    # 각 장애물에 따른 추가 가중치 계산\n",
    "    for obstacle, weight in obstacle_weights.items():\n",
    "        if obstacle in data and data[obstacle] != 0:  # 장애물 정보가 있고, 값이 0이 아닌 경우\n",
    "            num_obstacles = len(data[obstacle]) if isinstance(data[obstacle], list) else 0\n",
    "            total_weight += num_obstacles * weight\n",
    "       \n",
    "    # 계산된 총 가중치를 엣지의 weight 속성에 저장\n",
    "    data['e_weight'] = total_weight\n",
    "    print(data)\n",
    "\n",
    "# 필요한 경우, 가중치가 업데이트된 그래프를 저장\n",
    "with open(r'C:/my_code/moduroad/moduroad_app/cashe_data/Wheelchair_graph.pickle', 'wb') as file:\n",
    "    pickle.dump(graph, file)\n"
   ]
  },
  {
   "cell_type": "code",
   "execution_count": 6,
   "metadata": {},
   "outputs": [
    {
     "name": "stdout",
     "output_type": "stream",
     "text": [
      "경로 찾기 성공:\n"
     ]
    }
   ],
   "source": [
    "weights = 'e_weight'\n",
    "weight_exists = all(weights in data for _, _, data in graph.edges(data=True))\n",
    "\n",
    "if weight_exists:\n",
    "    # 모든 간선에 가중치 속성이 존재하면 A* 알고리즘 실행\n",
    "    print(\"경로 찾기 성공:\")\n",
    "else:\n",
    "    # 가중치 속성이 없는 간선이 있으면 경고 메시지 출력\n",
    "    print(f\"경고: '{weights}' 속성이 모든 간선에 존재하지 않습니다.\")"
   ]
  },
  {
   "cell_type": "code",
   "execution_count": null,
   "metadata": {},
   "outputs": [],
   "source": [
    "for u, v, data in graph.edges(data=True):\n",
    "    if data['link_id']=="
   ]
  }
 ],
 "metadata": {
  "kernelspec": {
   "display_name": "venv_modu",
   "language": "python",
   "name": "python3"
  },
  "language_info": {
   "codemirror_mode": {
    "name": "ipython",
    "version": 3
   },
   "file_extension": ".py",
   "mimetype": "text/x-python",
   "name": "python",
   "nbconvert_exporter": "python",
   "pygments_lexer": "ipython3",
   "version": "3.11.4"
  }
 },
 "nbformat": 4,
 "nbformat_minor": 2
}
