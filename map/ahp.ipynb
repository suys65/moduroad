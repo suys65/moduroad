{
 "cells": [
  {
   "cell_type": "code",
   "execution_count": 3,
   "metadata": {},
   "outputs": [
    {
     "name": "stdout",
     "output_type": "stream",
     "text": [
      "일관성 비율(CR): -0.00, 최대 고유값: 5.00\n",
      "장애물 별 중요도 가중치: [0.2 0.2 0.2 0.2 0.2]\n"
     ]
    }
   ],
   "source": [
    "import numpy as np\n",
    "import pandas as pd\n",
    "\n",
    "# 데이터 생성\n",
    "data = {\n",
    "    '장애물1': [1, 2, 3, 4, 5],\n",
    "    '장애물2': [2, 3, 4, 5, 1],\n",
    "    '장애물3': [3, 4, 5, 1, 2],\n",
    "    '장애물4': [4, 5, 1, 2, 3],\n",
    "    '장애물5': [5, 1, 2, 3, 4]\n",
    "}\n",
    "df = pd.DataFrame(data)\n",
    "\n",
    "def create_pairwise_matrix(df):\n",
    "    n = df.shape[1]\n",
    "    pairwise_matrix = np.zeros((n, n))\n",
    "    for i in range(n):\n",
    "        for j in range(n):\n",
    "            pairwise_matrix[i, j] = df.iloc[:, i].mean() / df.iloc[:, j].mean()\n",
    "    return pairwise_matrix\n",
    "\n",
    "def calculate_consistency_ratio(matrix):\n",
    "    n = matrix.shape[0]\n",
    "    eigenvalues, _ = np.linalg.eig(matrix)\n",
    "    max_eigenvalue = np.max(eigenvalues.real)\n",
    "    CI = (max_eigenvalue - n) / (n - 1)\n",
    "    RI = 1.12  # n=5에 대한 RI 값\n",
    "    CR = CI / RI\n",
    "    return CR, max_eigenvalue  # max_eigenvalue 추가로 반환\n",
    "\n",
    "def calculate_weights(matrix):\n",
    "    eigenvector = np.linalg.eig(matrix)[1][:, np.argmax(np.linalg.eig(matrix)[0].real)].real\n",
    "    weights = eigenvector / eigenvector.sum()\n",
    "    return weights\n",
    "\n",
    "def main(df):\n",
    "    pairwise_matrix = create_pairwise_matrix(df)\n",
    "    CR, max_eigenvalue = calculate_consistency_ratio(pairwise_matrix)\n",
    "    print(f\"일관성 비율(CR): {CR:.2f}, 최대 고유값: {max_eigenvalue:.2f}\")\n",
    "    \n",
    "    if CR <= 0.1:\n",
    "        weights = calculate_weights(pairwise_matrix)\n",
    "        print(\"장애물 별 중요도 가중치:\", weights)\n",
    "    else:\n",
    "        print(\"일관성 비율이 0.1을 초과하여 결과를 신뢰할 수 없습니다.\")\n",
    "\n",
    "main(df)\n"
   ]
  }
 ],
 "metadata": {
  "kernelspec": {
   "display_name": "venv_modu",
   "language": "python",
   "name": "python3"
  },
  "language_info": {
   "codemirror_mode": {
    "name": "ipython",
    "version": 3
   },
   "file_extension": ".py",
   "mimetype": "text/x-python",
   "name": "python",
   "nbconvert_exporter": "python",
   "pygments_lexer": "ipython3",
   "version": "3.12.2"
  }
 },
 "nbformat": 4,
 "nbformat_minor": 2
}
