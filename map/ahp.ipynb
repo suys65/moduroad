{
 "cells": [
  {
   "cell_type": "code",
   "execution_count": 23,
   "metadata": {},
   "outputs": [
    {
     "name": "stdout",
     "output_type": "stream",
     "text": [
      "[[1.         0.40509915 0.88819876 0.54372624 0.47508306]\n",
      " [2.46853147 1.         2.30169492 1.52023121 1.28493151]\n",
      " [1.12587413 0.43446244 1.         0.59118236 0.51304348]\n",
      " [1.83916084 0.65779468 1.69152542 1.         0.81990521]\n",
      " [2.1048951  0.7782516  1.94915254 1.21965318 1.        ]]\n",
      "가중치: [0.1163412  0.30287056 0.12773345 0.20752518 0.2455296 ]\n",
      "1.0000000000000002\n",
      "CI: 0.0005679953772965707\n",
      "CR: 0.000507138729729081\n",
      "일관성이 충분합니다.\n"
     ]
    }
   ],
   "source": [
    "import numpy as np\n",
    "\n",
    "def scale_difference(i, j):\n",
    "    \"\"\"점수 차이를 선형적으로 1-9 스케일로 변환하는 함수.\"\"\"\n",
    "    if i == j:\n",
    "        return 1  # 동일한 점수의 비교는 항상 1\n",
    "    else:\n",
    "        # 두 점수의 비율을 계산하고 1에서 9 사이로 스케일링\n",
    "        min_value = min(i, j)\n",
    "        max_value = max(i, j)\n",
    "        ratio = max_value / min_value\n",
    "\n",
    "        # 1과 2 사이의 비율을 1과 9 사이로 선형 스케일링\n",
    "        # 1:1 비율은 1, 2:1 비율은 9로 매핑\n",
    "        # 이 사이의 값은 선형 변환을 사용하여 계산\n",
    "        scaled_value = 1 + (ratio - 1) / (2 - 1) * (5 - 1)\n",
    "        return scaled_value if i >= j else 1 / scaled_value\n",
    "\n",
    "# 주어진 중요도 점수\n",
    "scores = np.array([2.86,3.91,2.95,3.46,3.65])\n",
    "\n",
    "# 쌍대비교 행렬 생성\n",
    "n = len(scores)\n",
    "comparison_matrix = np.zeros((n, n))\n",
    "\n",
    "for i in range(n):\n",
    "    for j in range(n):\n",
    "        comparison_matrix[i, j] = scale_difference(scores[i], scores[j])\n",
    "\n",
    "\n",
    "print(comparison_matrix )\n",
    "# 가중치 계산 (일단 eigenvector 방식 사용)\n",
    "eigenvalues, eigenvectors = np.linalg.eig(comparison_matrix)\n",
    "max_eigenvalue_index = eigenvalues.argmax()\n",
    "weights = np.abs(eigenvectors[:, max_eigenvalue_index]) / np.sum(np.abs(eigenvectors[:, max_eigenvalue_index]))\n",
    "\n",
    "# 일관성 지수(CI)와 일관성 비율(CR) 계산\n",
    "lambda_max = eigenvalues[max_eigenvalue_index].real\n",
    "CI = (lambda_max - n) / (n - 1)\n",
    "\n",
    "# 음수 CI 보정\n",
    "if CI < 0:\n",
    "    CI = 0\n",
    "\n",
    "# Random Index (RI) 값\n",
    "RI_dict = {1: 0, 2: 0, 3: 0.58, 4: 0.90, 5: 1.12, 6: 1.24, 7: 1.32, 8: 1.41, 9: 1.45}\n",
    "RI = RI_dict[n]\n",
    "\n",
    "CR = CI / RI\n",
    "\n",
    "print(\"가중치:\", weights)\n",
    "print(sum(weights))\n",
    "print(\"CI:\", CI)\n",
    "print(\"CR:\", CR)\n",
    "\n",
    "# 결과 출력\n",
    "if CR <= 0.1:\n",
    "    print(\"일관성이 충분합니다.\")\n",
    "else:\n",
    "    print(\"일관성이 부족합니다. 행렬을 재검토하세요.\")\n"
   ]
  }
 ],
 "metadata": {
  "kernelspec": {
   "display_name": "venv_modu",
   "language": "python",
   "name": "python3"
  },
  "language_info": {
   "codemirror_mode": {
    "name": "ipython",
    "version": 3
   },
   "file_extension": ".py",
   "mimetype": "text/x-python",
   "name": "python",
   "nbconvert_exporter": "python",
   "pygments_lexer": "ipython3",
   "version": "3.12.2"
  }
 },
 "nbformat": 4,
 "nbformat_minor": 2
}
