{
 "cells": [
  {
   "cell_type": "code",
   "execution_count": null,
   "metadata": {},
   "outputs": [],
   "source": [
    "from google.cloud import firestore\n",
    "import os\n",
    "import pandas as pd\n",
    "\n",
    "# 환경 변수 설정으로 Firebase 인증 정보 제공\n",
    "os.environ[\"GOOGLE_APPLICATION_CREDENTIALS\"] = \"moduroad-firebase-adminsdk-6trb9-9ef3e5f55a.json\"\n",
    "\n",
    "# Firestore 클라이언트 초기화\n",
    "db = firestore.Client()\n",
    "\n",
    "# 컬렉션 생성 및 DataFrame 데이터 삽입 함수\n",
    "def insert_dataframe_to_firestore(collection_name, dataframe):\n",
    "    collection_ref = db.collection(collection_name)\n",
    "    for record in dataframe.to_dict(orient=\"records\"):\n",
    "        # 새 문서 ID를 자동으로 생성하여 데이터 삽입\n",
    "        collection_ref.add(record)\n",
    "#-------------------------------------------------------------------------------------------------------------------#\n",
    "import pandas as pd\n",
    "\n",
    "# CSV 파일 읽기\n",
    "file_path = 'data\\_facility\\에스컬레이터_휠체어리프트.pkl'\n",
    "df = pd.read_pickle(file_path)\n",
    "# DataFrame 데이터를 Firestore에 삽입\n",
    "insert_dataframe_to_firestore(\"escalator_Wheelchairlift\", df)\n",
    "\n"
   ]
  }
 ],
 "metadata": {
  "kernelspec": {
   "display_name": "base",
   "language": "python",
   "name": "python3"
  },
  "language_info": {
   "name": "python",
   "version": "3.10.9"
  }
 },
 "nbformat": 4,
 "nbformat_minor": 2
}
